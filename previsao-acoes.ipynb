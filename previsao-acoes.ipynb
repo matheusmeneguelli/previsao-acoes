{
 "cells": [
  {
   "cell_type": "markdown",
   "id": "02b50222-6df5-4c89-a354-55b8d72c979f",
   "metadata": {},
   "source": [
    "# OBJETIVO"
   ]
  },
  {
   "cell_type": "markdown",
   "id": "d7c02c5a-8dcb-4a22-a3fb-22957367105b",
   "metadata": {},
   "source": [
    "O objetivo deste notebook é aplicar um modelo de regressão linear para prever os preços das ações da ITUB3.SA (Itaú Unibanco), utilizando dados históricos de fechamento ajustado. O modelo é avaliado com a métrica RMSE para medir a precisão das previsões e, posteriormente, compara o preço previsto com o preço real no dia útil seguinte, proporcionando uma análise clara sobre a performance do modelo na previsão de preços de ações."
   ]
  },
  {
   "cell_type": "markdown",
   "id": "fcff3a9d-1621-4689-a087-eea53cb692f0",
   "metadata": {},
   "source": [
    "A data foi escolhida propositalmente fora do período da pandemia de COVID-19, poi, durante este tempo, os preços das ações foram altamente voláteis e influenciados por fatores externos atípicos, como instabilidade econômica, intervenções governamentais e mudanças abruptas no comportamento do mercado. Ao focar em um período antes da pandemia, o objetivo é testar a eficácia do modelo em um ambiente de mercado mais estável e com menos influência de eventos inesperados, garantindo uma avaliação mais consistente do desempenho da Regressão Linear para prever os preços das ações."
   ]
  },
  {
   "cell_type": "markdown",
   "id": "de1fc061-c588-4b08-8e2d-909b4625cb1b",
   "metadata": {},
   "source": [
    "# BIBLIOTECAS"
   ]
  },
  {
   "cell_type": "code",
   "execution_count": 279,
   "id": "63c6bd7a-3254-4f6f-bbfa-dcfc55eb10e8",
   "metadata": {},
   "outputs": [],
   "source": [
    "import yfinance as yf\n",
    "import pandas as pd\n",
    "import numpy as np\n",
    "import matplotlib.pyplot as plt\n",
    "from sklearn.model_selection import train_test_split\n",
    "from sklearn.linear_model import LinearRegression\n",
    "from sklearn.metrics import mean_squared_error\n",
    "from sklearn.metrics import r2_score"
   ]
  },
  {
   "cell_type": "markdown",
   "id": "9ce858e6-8e74-4afe-a6da-b40f7641be5c",
   "metadata": {},
   "source": [
    "# DADOS"
   ]
  },
  {
   "cell_type": "code",
   "execution_count": 281,
   "id": "a29cbbbd-14a1-4616-b06e-584361203e95",
   "metadata": {},
   "outputs": [
    {
     "name": "stderr",
     "output_type": "stream",
     "text": [
      "[*********************100%***********************]  1 of 1 completed\n"
     ]
    },
    {
     "data": {
      "text/html": [
       "<div>\n",
       "<style scoped>\n",
       "    .dataframe tbody tr th:only-of-type {\n",
       "        vertical-align: middle;\n",
       "    }\n",
       "\n",
       "    .dataframe tbody tr th {\n",
       "        vertical-align: top;\n",
       "    }\n",
       "\n",
       "    .dataframe thead th {\n",
       "        text-align: right;\n",
       "    }\n",
       "</style>\n",
       "<table border=\"1\" class=\"dataframe\">\n",
       "  <thead>\n",
       "    <tr style=\"text-align: right;\">\n",
       "      <th></th>\n",
       "      <th>Open</th>\n",
       "      <th>High</th>\n",
       "      <th>Low</th>\n",
       "      <th>Close</th>\n",
       "      <th>Adj Close</th>\n",
       "      <th>Volume</th>\n",
       "    </tr>\n",
       "    <tr>\n",
       "      <th>Date</th>\n",
       "      <th></th>\n",
       "      <th></th>\n",
       "      <th></th>\n",
       "      <th></th>\n",
       "      <th></th>\n",
       "      <th></th>\n",
       "    </tr>\n",
       "  </thead>\n",
       "  <tbody>\n",
       "    <tr>\n",
       "      <th>2010-01-04</th>\n",
       "      <td>13.655715</td>\n",
       "      <td>14.138378</td>\n",
       "      <td>13.655715</td>\n",
       "      <td>14.138378</td>\n",
       "      <td>7.306849</td>\n",
       "      <td>627000</td>\n",
       "    </tr>\n",
       "    <tr>\n",
       "      <th>2010-01-05</th>\n",
       "      <td>14.115611</td>\n",
       "      <td>14.161145</td>\n",
       "      <td>13.956241</td>\n",
       "      <td>14.161145</td>\n",
       "      <td>7.318619</td>\n",
       "      <td>183158</td>\n",
       "    </tr>\n",
       "    <tr>\n",
       "      <th>2010-01-06</th>\n",
       "      <td>14.161145</td>\n",
       "      <td>14.161145</td>\n",
       "      <td>13.965348</td>\n",
       "      <td>14.161145</td>\n",
       "      <td>7.318619</td>\n",
       "      <td>116395</td>\n",
       "    </tr>\n",
       "    <tr>\n",
       "      <th>2010-01-07</th>\n",
       "      <td>14.056416</td>\n",
       "      <td>14.070077</td>\n",
       "      <td>13.947134</td>\n",
       "      <td>14.024542</td>\n",
       "      <td>7.248022</td>\n",
       "      <td>136820</td>\n",
       "    </tr>\n",
       "    <tr>\n",
       "      <th>2010-01-08</th>\n",
       "      <td>13.974455</td>\n",
       "      <td>14.015436</td>\n",
       "      <td>13.719463</td>\n",
       "      <td>13.865173</td>\n",
       "      <td>7.165658</td>\n",
       "      <td>95971</td>\n",
       "    </tr>\n",
       "  </tbody>\n",
       "</table>\n",
       "</div>"
      ],
      "text/plain": [
       "                 Open       High        Low      Close  Adj Close  Volume\n",
       "Date                                                                     \n",
       "2010-01-04  13.655715  14.138378  13.655715  14.138378   7.306849  627000\n",
       "2010-01-05  14.115611  14.161145  13.956241  14.161145   7.318619  183158\n",
       "2010-01-06  14.161145  14.161145  13.965348  14.161145   7.318619  116395\n",
       "2010-01-07  14.056416  14.070077  13.947134  14.024542   7.248022  136820\n",
       "2010-01-08  13.974455  14.015436  13.719463  13.865173   7.165658   95971"
      ]
     },
     "execution_count": 281,
     "metadata": {},
     "output_type": "execute_result"
    }
   ],
   "source": [
    "#definindo as datas de início e fim\n",
    "data_inicio = '2010-01-01'\n",
    "data_fim = '2019-12-30'\n",
    "\n",
    "#ação utilizada\n",
    "carteira = 'itub3.sa'\n",
    "\n",
    "#baixando os dados históricos da ação\n",
    "df = yf.download(carteira, start=data_inicio, end=data_fim)\n",
    "df.head()"
   ]
  },
  {
   "cell_type": "markdown",
   "id": "81b8de97-3167-4c44-a1f7-c779c2ac75e7",
   "metadata": {},
   "source": [
    "Agora, vamos criar a variável alvo, chamada 'Target', que será usada para prever o preço de fechamento da ação no futuro."
   ]
  },
  {
   "cell_type": "markdown",
   "id": "3ad3ac2f-5caa-4485-9d79-004836ff2ccf",
   "metadata": {},
   "source": [
    "O método shift() é usado para deslocar os dados para cima ou para baixo. Quando passamos -1 como argumento, estamos deslocando os valores da coluna 'Close' uma linha para cima, ou seja, o valor de fechamento do dia seguinte será atribuído à linha atual."
   ]
  },
  {
   "cell_type": "code",
   "execution_count": 284,
   "id": "79e99fd6-7bcb-485f-ac3d-342e05beef71",
   "metadata": {},
   "outputs": [],
   "source": [
    "#Criando variável alvo\n",
    "df['Target'] = df['Close'].shift(-1)"
   ]
  },
  {
   "cell_type": "markdown",
   "id": "cb29a232-9159-4059-985d-53f1982a97a4",
   "metadata": {},
   "source": [
    "Observe que o último valor será nulo, porque não há um preço de fechamento disponível após o último dia do conjunto de dados."
   ]
  },
  {
   "cell_type": "code",
   "execution_count": 286,
   "id": "94c37fd9-3a2a-4401-b0b4-b52babedcb3a",
   "metadata": {},
   "outputs": [
    {
     "data": {
      "text/html": [
       "<div>\n",
       "<style scoped>\n",
       "    .dataframe tbody tr th:only-of-type {\n",
       "        vertical-align: middle;\n",
       "    }\n",
       "\n",
       "    .dataframe tbody tr th {\n",
       "        vertical-align: top;\n",
       "    }\n",
       "\n",
       "    .dataframe thead th {\n",
       "        text-align: right;\n",
       "    }\n",
       "</style>\n",
       "<table border=\"1\" class=\"dataframe\">\n",
       "  <thead>\n",
       "    <tr style=\"text-align: right;\">\n",
       "      <th></th>\n",
       "      <th>Open</th>\n",
       "      <th>High</th>\n",
       "      <th>Low</th>\n",
       "      <th>Close</th>\n",
       "      <th>Adj Close</th>\n",
       "      <th>Volume</th>\n",
       "      <th>Target</th>\n",
       "    </tr>\n",
       "    <tr>\n",
       "      <th>Date</th>\n",
       "      <th></th>\n",
       "      <th></th>\n",
       "      <th></th>\n",
       "      <th></th>\n",
       "      <th></th>\n",
       "      <th></th>\n",
       "      <th></th>\n",
       "    </tr>\n",
       "  </thead>\n",
       "  <tbody>\n",
       "    <tr>\n",
       "      <th>2019-12-27</th>\n",
       "      <td>32.279999</td>\n",
       "      <td>32.400002</td>\n",
       "      <td>31.84</td>\n",
       "      <td>32.16</td>\n",
       "      <td>25.594995</td>\n",
       "      <td>193800</td>\n",
       "      <td>NaN</td>\n",
       "    </tr>\n",
       "  </tbody>\n",
       "</table>\n",
       "</div>"
      ],
      "text/plain": [
       "                 Open       High    Low  Close  Adj Close  Volume  Target\n",
       "Date                                                                     \n",
       "2019-12-27  32.279999  32.400002  31.84  32.16  25.594995  193800     NaN"
      ]
     },
     "execution_count": 286,
     "metadata": {},
     "output_type": "execute_result"
    }
   ],
   "source": [
    "df.tail(1)"
   ]
  },
  {
   "cell_type": "markdown",
   "id": "470f1579-c066-4ab6-9601-e2cabfe1dc25",
   "metadata": {},
   "source": [
    "Devemos apagar o valor nulo, pois não pode ser utilizado no treinamento do modelo de Regressão Linear."
   ]
  },
  {
   "cell_type": "code",
   "execution_count": 288,
   "id": "d97d65bf-7a88-43f6-841c-8cbeeb7dc3c1",
   "metadata": {},
   "outputs": [],
   "source": [
    "# Remover os valores nulos criados pelas novas variáveis\n",
    "df.dropna(inplace=True)"
   ]
  },
  {
   "cell_type": "markdown",
   "id": "ba7e3bb0-6330-49ab-bc36-721ccadd5e95",
   "metadata": {},
   "source": [
    "Por fim, vamos verificar se existe ainda algum valor nulo no dataset antes de aplicar o modelo."
   ]
  },
  {
   "cell_type": "code",
   "execution_count": 290,
   "id": "6ba17233-fb6f-479c-b880-24608bcbeb69",
   "metadata": {},
   "outputs": [
    {
     "data": {
      "text/plain": [
       "Open         0\n",
       "High         0\n",
       "Low          0\n",
       "Close        0\n",
       "Adj Close    0\n",
       "Volume       0\n",
       "Target       0\n",
       "dtype: int64"
      ]
     },
     "execution_count": 290,
     "metadata": {},
     "output_type": "execute_result"
    }
   ],
   "source": [
    "df.isnull().sum()"
   ]
  },
  {
   "cell_type": "markdown",
   "id": "9cae0d0f-f3d0-4302-8d21-1f04265ba869",
   "metadata": {},
   "source": [
    "# Regressão Linear"
   ]
  },
  {
   "cell_type": "markdown",
   "id": "356a3cc8-418d-4c3a-89ef-5b95a80cb18b",
   "metadata": {},
   "source": [
    "Nesta seção, iremos aplicar um modelo de regressão linear para prever o preço de fechamento das ações com base nos dados históricos."
   ]
  },
  {
   "cell_type": "code",
   "execution_count": 294,
   "id": "a0dcc0a5-ba70-4bf4-b031-85034ab89190",
   "metadata": {},
   "outputs": [],
   "source": [
    "X = df[['Close']].values  #variável preditora\n",
    "y = df['Target'].values   #variável resposta"
   ]
  },
  {
   "cell_type": "code",
   "execution_count": 296,
   "id": "6a8d3393-5805-47b3-8825-b73d6899b864",
   "metadata": {},
   "outputs": [],
   "source": [
    "#dividindo o dataset em treino e teste (80% treino e 20% teste)\n",
    "X_train, X_test, y_train, y_test = train_test_split(X, y, test_size=0.2, shuffle=False)"
   ]
  },
  {
   "cell_type": "code",
   "execution_count": 298,
   "id": "ea09a134-bc6a-4c0b-a486-697b4dcede55",
   "metadata": {},
   "outputs": [],
   "source": [
    "#criando o modelo de Regressão Linear\n",
    "modelo = LinearRegression()"
   ]
  },
  {
   "cell_type": "code",
   "execution_count": 300,
   "id": "718cd138-2a14-465c-86c2-75ff1adcec7b",
   "metadata": {},
   "outputs": [
    {
     "data": {
      "text/html": [
       "<style>#sk-container-id-8 {\n",
       "  /* Definition of color scheme common for light and dark mode */\n",
       "  --sklearn-color-text: black;\n",
       "  --sklearn-color-line: gray;\n",
       "  /* Definition of color scheme for unfitted estimators */\n",
       "  --sklearn-color-unfitted-level-0: #fff5e6;\n",
       "  --sklearn-color-unfitted-level-1: #f6e4d2;\n",
       "  --sklearn-color-unfitted-level-2: #ffe0b3;\n",
       "  --sklearn-color-unfitted-level-3: chocolate;\n",
       "  /* Definition of color scheme for fitted estimators */\n",
       "  --sklearn-color-fitted-level-0: #f0f8ff;\n",
       "  --sklearn-color-fitted-level-1: #d4ebff;\n",
       "  --sklearn-color-fitted-level-2: #b3dbfd;\n",
       "  --sklearn-color-fitted-level-3: cornflowerblue;\n",
       "\n",
       "  /* Specific color for light theme */\n",
       "  --sklearn-color-text-on-default-background: var(--sg-text-color, var(--theme-code-foreground, var(--jp-content-font-color1, black)));\n",
       "  --sklearn-color-background: var(--sg-background-color, var(--theme-background, var(--jp-layout-color0, white)));\n",
       "  --sklearn-color-border-box: var(--sg-text-color, var(--theme-code-foreground, var(--jp-content-font-color1, black)));\n",
       "  --sklearn-color-icon: #696969;\n",
       "\n",
       "  @media (prefers-color-scheme: dark) {\n",
       "    /* Redefinition of color scheme for dark theme */\n",
       "    --sklearn-color-text-on-default-background: var(--sg-text-color, var(--theme-code-foreground, var(--jp-content-font-color1, white)));\n",
       "    --sklearn-color-background: var(--sg-background-color, var(--theme-background, var(--jp-layout-color0, #111)));\n",
       "    --sklearn-color-border-box: var(--sg-text-color, var(--theme-code-foreground, var(--jp-content-font-color1, white)));\n",
       "    --sklearn-color-icon: #878787;\n",
       "  }\n",
       "}\n",
       "\n",
       "#sk-container-id-8 {\n",
       "  color: var(--sklearn-color-text);\n",
       "}\n",
       "\n",
       "#sk-container-id-8 pre {\n",
       "  padding: 0;\n",
       "}\n",
       "\n",
       "#sk-container-id-8 input.sk-hidden--visually {\n",
       "  border: 0;\n",
       "  clip: rect(1px 1px 1px 1px);\n",
       "  clip: rect(1px, 1px, 1px, 1px);\n",
       "  height: 1px;\n",
       "  margin: -1px;\n",
       "  overflow: hidden;\n",
       "  padding: 0;\n",
       "  position: absolute;\n",
       "  width: 1px;\n",
       "}\n",
       "\n",
       "#sk-container-id-8 div.sk-dashed-wrapped {\n",
       "  border: 1px dashed var(--sklearn-color-line);\n",
       "  margin: 0 0.4em 0.5em 0.4em;\n",
       "  box-sizing: border-box;\n",
       "  padding-bottom: 0.4em;\n",
       "  background-color: var(--sklearn-color-background);\n",
       "}\n",
       "\n",
       "#sk-container-id-8 div.sk-container {\n",
       "  /* jupyter's `normalize.less` sets `[hidden] { display: none; }`\n",
       "     but bootstrap.min.css set `[hidden] { display: none !important; }`\n",
       "     so we also need the `!important` here to be able to override the\n",
       "     default hidden behavior on the sphinx rendered scikit-learn.org.\n",
       "     See: https://github.com/scikit-learn/scikit-learn/issues/21755 */\n",
       "  display: inline-block !important;\n",
       "  position: relative;\n",
       "}\n",
       "\n",
       "#sk-container-id-8 div.sk-text-repr-fallback {\n",
       "  display: none;\n",
       "}\n",
       "\n",
       "div.sk-parallel-item,\n",
       "div.sk-serial,\n",
       "div.sk-item {\n",
       "  /* draw centered vertical line to link estimators */\n",
       "  background-image: linear-gradient(var(--sklearn-color-text-on-default-background), var(--sklearn-color-text-on-default-background));\n",
       "  background-size: 2px 100%;\n",
       "  background-repeat: no-repeat;\n",
       "  background-position: center center;\n",
       "}\n",
       "\n",
       "/* Parallel-specific style estimator block */\n",
       "\n",
       "#sk-container-id-8 div.sk-parallel-item::after {\n",
       "  content: \"\";\n",
       "  width: 100%;\n",
       "  border-bottom: 2px solid var(--sklearn-color-text-on-default-background);\n",
       "  flex-grow: 1;\n",
       "}\n",
       "\n",
       "#sk-container-id-8 div.sk-parallel {\n",
       "  display: flex;\n",
       "  align-items: stretch;\n",
       "  justify-content: center;\n",
       "  background-color: var(--sklearn-color-background);\n",
       "  position: relative;\n",
       "}\n",
       "\n",
       "#sk-container-id-8 div.sk-parallel-item {\n",
       "  display: flex;\n",
       "  flex-direction: column;\n",
       "}\n",
       "\n",
       "#sk-container-id-8 div.sk-parallel-item:first-child::after {\n",
       "  align-self: flex-end;\n",
       "  width: 50%;\n",
       "}\n",
       "\n",
       "#sk-container-id-8 div.sk-parallel-item:last-child::after {\n",
       "  align-self: flex-start;\n",
       "  width: 50%;\n",
       "}\n",
       "\n",
       "#sk-container-id-8 div.sk-parallel-item:only-child::after {\n",
       "  width: 0;\n",
       "}\n",
       "\n",
       "/* Serial-specific style estimator block */\n",
       "\n",
       "#sk-container-id-8 div.sk-serial {\n",
       "  display: flex;\n",
       "  flex-direction: column;\n",
       "  align-items: center;\n",
       "  background-color: var(--sklearn-color-background);\n",
       "  padding-right: 1em;\n",
       "  padding-left: 1em;\n",
       "}\n",
       "\n",
       "\n",
       "/* Toggleable style: style used for estimator/Pipeline/ColumnTransformer box that is\n",
       "clickable and can be expanded/collapsed.\n",
       "- Pipeline and ColumnTransformer use this feature and define the default style\n",
       "- Estimators will overwrite some part of the style using the `sk-estimator` class\n",
       "*/\n",
       "\n",
       "/* Pipeline and ColumnTransformer style (default) */\n",
       "\n",
       "#sk-container-id-8 div.sk-toggleable {\n",
       "  /* Default theme specific background. It is overwritten whether we have a\n",
       "  specific estimator or a Pipeline/ColumnTransformer */\n",
       "  background-color: var(--sklearn-color-background);\n",
       "}\n",
       "\n",
       "/* Toggleable label */\n",
       "#sk-container-id-8 label.sk-toggleable__label {\n",
       "  cursor: pointer;\n",
       "  display: block;\n",
       "  width: 100%;\n",
       "  margin-bottom: 0;\n",
       "  padding: 0.5em;\n",
       "  box-sizing: border-box;\n",
       "  text-align: center;\n",
       "}\n",
       "\n",
       "#sk-container-id-8 label.sk-toggleable__label-arrow:before {\n",
       "  /* Arrow on the left of the label */\n",
       "  content: \"▸\";\n",
       "  float: left;\n",
       "  margin-right: 0.25em;\n",
       "  color: var(--sklearn-color-icon);\n",
       "}\n",
       "\n",
       "#sk-container-id-8 label.sk-toggleable__label-arrow:hover:before {\n",
       "  color: var(--sklearn-color-text);\n",
       "}\n",
       "\n",
       "/* Toggleable content - dropdown */\n",
       "\n",
       "#sk-container-id-8 div.sk-toggleable__content {\n",
       "  max-height: 0;\n",
       "  max-width: 0;\n",
       "  overflow: hidden;\n",
       "  text-align: left;\n",
       "  /* unfitted */\n",
       "  background-color: var(--sklearn-color-unfitted-level-0);\n",
       "}\n",
       "\n",
       "#sk-container-id-8 div.sk-toggleable__content.fitted {\n",
       "  /* fitted */\n",
       "  background-color: var(--sklearn-color-fitted-level-0);\n",
       "}\n",
       "\n",
       "#sk-container-id-8 div.sk-toggleable__content pre {\n",
       "  margin: 0.2em;\n",
       "  border-radius: 0.25em;\n",
       "  color: var(--sklearn-color-text);\n",
       "  /* unfitted */\n",
       "  background-color: var(--sklearn-color-unfitted-level-0);\n",
       "}\n",
       "\n",
       "#sk-container-id-8 div.sk-toggleable__content.fitted pre {\n",
       "  /* unfitted */\n",
       "  background-color: var(--sklearn-color-fitted-level-0);\n",
       "}\n",
       "\n",
       "#sk-container-id-8 input.sk-toggleable__control:checked~div.sk-toggleable__content {\n",
       "  /* Expand drop-down */\n",
       "  max-height: 200px;\n",
       "  max-width: 100%;\n",
       "  overflow: auto;\n",
       "}\n",
       "\n",
       "#sk-container-id-8 input.sk-toggleable__control:checked~label.sk-toggleable__label-arrow:before {\n",
       "  content: \"▾\";\n",
       "}\n",
       "\n",
       "/* Pipeline/ColumnTransformer-specific style */\n",
       "\n",
       "#sk-container-id-8 div.sk-label input.sk-toggleable__control:checked~label.sk-toggleable__label {\n",
       "  color: var(--sklearn-color-text);\n",
       "  background-color: var(--sklearn-color-unfitted-level-2);\n",
       "}\n",
       "\n",
       "#sk-container-id-8 div.sk-label.fitted input.sk-toggleable__control:checked~label.sk-toggleable__label {\n",
       "  background-color: var(--sklearn-color-fitted-level-2);\n",
       "}\n",
       "\n",
       "/* Estimator-specific style */\n",
       "\n",
       "/* Colorize estimator box */\n",
       "#sk-container-id-8 div.sk-estimator input.sk-toggleable__control:checked~label.sk-toggleable__label {\n",
       "  /* unfitted */\n",
       "  background-color: var(--sklearn-color-unfitted-level-2);\n",
       "}\n",
       "\n",
       "#sk-container-id-8 div.sk-estimator.fitted input.sk-toggleable__control:checked~label.sk-toggleable__label {\n",
       "  /* fitted */\n",
       "  background-color: var(--sklearn-color-fitted-level-2);\n",
       "}\n",
       "\n",
       "#sk-container-id-8 div.sk-label label.sk-toggleable__label,\n",
       "#sk-container-id-8 div.sk-label label {\n",
       "  /* The background is the default theme color */\n",
       "  color: var(--sklearn-color-text-on-default-background);\n",
       "}\n",
       "\n",
       "/* On hover, darken the color of the background */\n",
       "#sk-container-id-8 div.sk-label:hover label.sk-toggleable__label {\n",
       "  color: var(--sklearn-color-text);\n",
       "  background-color: var(--sklearn-color-unfitted-level-2);\n",
       "}\n",
       "\n",
       "/* Label box, darken color on hover, fitted */\n",
       "#sk-container-id-8 div.sk-label.fitted:hover label.sk-toggleable__label.fitted {\n",
       "  color: var(--sklearn-color-text);\n",
       "  background-color: var(--sklearn-color-fitted-level-2);\n",
       "}\n",
       "\n",
       "/* Estimator label */\n",
       "\n",
       "#sk-container-id-8 div.sk-label label {\n",
       "  font-family: monospace;\n",
       "  font-weight: bold;\n",
       "  display: inline-block;\n",
       "  line-height: 1.2em;\n",
       "}\n",
       "\n",
       "#sk-container-id-8 div.sk-label-container {\n",
       "  text-align: center;\n",
       "}\n",
       "\n",
       "/* Estimator-specific */\n",
       "#sk-container-id-8 div.sk-estimator {\n",
       "  font-family: monospace;\n",
       "  border: 1px dotted var(--sklearn-color-border-box);\n",
       "  border-radius: 0.25em;\n",
       "  box-sizing: border-box;\n",
       "  margin-bottom: 0.5em;\n",
       "  /* unfitted */\n",
       "  background-color: var(--sklearn-color-unfitted-level-0);\n",
       "}\n",
       "\n",
       "#sk-container-id-8 div.sk-estimator.fitted {\n",
       "  /* fitted */\n",
       "  background-color: var(--sklearn-color-fitted-level-0);\n",
       "}\n",
       "\n",
       "/* on hover */\n",
       "#sk-container-id-8 div.sk-estimator:hover {\n",
       "  /* unfitted */\n",
       "  background-color: var(--sklearn-color-unfitted-level-2);\n",
       "}\n",
       "\n",
       "#sk-container-id-8 div.sk-estimator.fitted:hover {\n",
       "  /* fitted */\n",
       "  background-color: var(--sklearn-color-fitted-level-2);\n",
       "}\n",
       "\n",
       "/* Specification for estimator info (e.g. \"i\" and \"?\") */\n",
       "\n",
       "/* Common style for \"i\" and \"?\" */\n",
       "\n",
       ".sk-estimator-doc-link,\n",
       "a:link.sk-estimator-doc-link,\n",
       "a:visited.sk-estimator-doc-link {\n",
       "  float: right;\n",
       "  font-size: smaller;\n",
       "  line-height: 1em;\n",
       "  font-family: monospace;\n",
       "  background-color: var(--sklearn-color-background);\n",
       "  border-radius: 1em;\n",
       "  height: 1em;\n",
       "  width: 1em;\n",
       "  text-decoration: none !important;\n",
       "  margin-left: 1ex;\n",
       "  /* unfitted */\n",
       "  border: var(--sklearn-color-unfitted-level-1) 1pt solid;\n",
       "  color: var(--sklearn-color-unfitted-level-1);\n",
       "}\n",
       "\n",
       ".sk-estimator-doc-link.fitted,\n",
       "a:link.sk-estimator-doc-link.fitted,\n",
       "a:visited.sk-estimator-doc-link.fitted {\n",
       "  /* fitted */\n",
       "  border: var(--sklearn-color-fitted-level-1) 1pt solid;\n",
       "  color: var(--sklearn-color-fitted-level-1);\n",
       "}\n",
       "\n",
       "/* On hover */\n",
       "div.sk-estimator:hover .sk-estimator-doc-link:hover,\n",
       ".sk-estimator-doc-link:hover,\n",
       "div.sk-label-container:hover .sk-estimator-doc-link:hover,\n",
       ".sk-estimator-doc-link:hover {\n",
       "  /* unfitted */\n",
       "  background-color: var(--sklearn-color-unfitted-level-3);\n",
       "  color: var(--sklearn-color-background);\n",
       "  text-decoration: none;\n",
       "}\n",
       "\n",
       "div.sk-estimator.fitted:hover .sk-estimator-doc-link.fitted:hover,\n",
       ".sk-estimator-doc-link.fitted:hover,\n",
       "div.sk-label-container:hover .sk-estimator-doc-link.fitted:hover,\n",
       ".sk-estimator-doc-link.fitted:hover {\n",
       "  /* fitted */\n",
       "  background-color: var(--sklearn-color-fitted-level-3);\n",
       "  color: var(--sklearn-color-background);\n",
       "  text-decoration: none;\n",
       "}\n",
       "\n",
       "/* Span, style for the box shown on hovering the info icon */\n",
       ".sk-estimator-doc-link span {\n",
       "  display: none;\n",
       "  z-index: 9999;\n",
       "  position: relative;\n",
       "  font-weight: normal;\n",
       "  right: .2ex;\n",
       "  padding: .5ex;\n",
       "  margin: .5ex;\n",
       "  width: min-content;\n",
       "  min-width: 20ex;\n",
       "  max-width: 50ex;\n",
       "  color: var(--sklearn-color-text);\n",
       "  box-shadow: 2pt 2pt 4pt #999;\n",
       "  /* unfitted */\n",
       "  background: var(--sklearn-color-unfitted-level-0);\n",
       "  border: .5pt solid var(--sklearn-color-unfitted-level-3);\n",
       "}\n",
       "\n",
       ".sk-estimator-doc-link.fitted span {\n",
       "  /* fitted */\n",
       "  background: var(--sklearn-color-fitted-level-0);\n",
       "  border: var(--sklearn-color-fitted-level-3);\n",
       "}\n",
       "\n",
       ".sk-estimator-doc-link:hover span {\n",
       "  display: block;\n",
       "}\n",
       "\n",
       "/* \"?\"-specific style due to the `<a>` HTML tag */\n",
       "\n",
       "#sk-container-id-8 a.estimator_doc_link {\n",
       "  float: right;\n",
       "  font-size: 1rem;\n",
       "  line-height: 1em;\n",
       "  font-family: monospace;\n",
       "  background-color: var(--sklearn-color-background);\n",
       "  border-radius: 1rem;\n",
       "  height: 1rem;\n",
       "  width: 1rem;\n",
       "  text-decoration: none;\n",
       "  /* unfitted */\n",
       "  color: var(--sklearn-color-unfitted-level-1);\n",
       "  border: var(--sklearn-color-unfitted-level-1) 1pt solid;\n",
       "}\n",
       "\n",
       "#sk-container-id-8 a.estimator_doc_link.fitted {\n",
       "  /* fitted */\n",
       "  border: var(--sklearn-color-fitted-level-1) 1pt solid;\n",
       "  color: var(--sklearn-color-fitted-level-1);\n",
       "}\n",
       "\n",
       "/* On hover */\n",
       "#sk-container-id-8 a.estimator_doc_link:hover {\n",
       "  /* unfitted */\n",
       "  background-color: var(--sklearn-color-unfitted-level-3);\n",
       "  color: var(--sklearn-color-background);\n",
       "  text-decoration: none;\n",
       "}\n",
       "\n",
       "#sk-container-id-8 a.estimator_doc_link.fitted:hover {\n",
       "  /* fitted */\n",
       "  background-color: var(--sklearn-color-fitted-level-3);\n",
       "}\n",
       "</style><div id=\"sk-container-id-8\" class=\"sk-top-container\"><div class=\"sk-text-repr-fallback\"><pre>LinearRegression()</pre><b>In a Jupyter environment, please rerun this cell to show the HTML representation or trust the notebook. <br />On GitHub, the HTML representation is unable to render, please try loading this page with nbviewer.org.</b></div><div class=\"sk-container\" hidden><div class=\"sk-item\"><div class=\"sk-estimator fitted sk-toggleable\"><input class=\"sk-toggleable__control sk-hidden--visually\" id=\"sk-estimator-id-8\" type=\"checkbox\" checked><label for=\"sk-estimator-id-8\" class=\"sk-toggleable__label fitted sk-toggleable__label-arrow fitted\">&nbsp;&nbsp;LinearRegression<a class=\"sk-estimator-doc-link fitted\" rel=\"noreferrer\" target=\"_blank\" href=\"https://scikit-learn.org/1.4/modules/generated/sklearn.linear_model.LinearRegression.html\">?<span>Documentation for LinearRegression</span></a><span class=\"sk-estimator-doc-link fitted\">i<span>Fitted</span></span></label><div class=\"sk-toggleable__content fitted\"><pre>LinearRegression()</pre></div> </div></div></div></div>"
      ],
      "text/plain": [
       "LinearRegression()"
      ]
     },
     "execution_count": 300,
     "metadata": {},
     "output_type": "execute_result"
    }
   ],
   "source": [
    "#treinando o modelo\n",
    "modelo.fit(X_train, y_train)"
   ]
  },
  {
   "cell_type": "code",
   "execution_count": 302,
   "id": "1cf0ccaf-3481-466c-a7e0-8e83fc880655",
   "metadata": {},
   "outputs": [],
   "source": [
    "#fazendo previsões para o conjunto de teste\n",
    "y_pred = modelo.predict(X_test)"
   ]
  },
  {
   "cell_type": "code",
   "execution_count": 304,
   "id": "4c67d460-de22-4ed7-875e-f57334332533",
   "metadata": {},
   "outputs": [
    {
     "name": "stdout",
     "output_type": "stream",
     "text": [
      "R²: 0.9632347342214495\n",
      "RMSE: 0.4510796521887435\n"
     ]
    },
    {
     "name": "stderr",
     "output_type": "stream",
     "text": [
      "C:\\Users\\Matheus\\anaconda3\\Lib\\site-packages\\sklearn\\metrics\\_regression.py:483: FutureWarning: 'squared' is deprecated in version 1.4 and will be removed in 1.6. To calculate the root mean squared error, use the function'root_mean_squared_error'.\n",
      "  warnings.warn(\n"
     ]
    }
   ],
   "source": [
    "#R²\n",
    "r2 = r2_score(y_test, y_pred)\n",
    "print(f\"R²: {r2}\")\n",
    "\n",
    "#RMSE\n",
    "rmse = mean_squared_error(y_test, y_pred, squared=False)\n",
    "print(f\"RMSE: {rmse}\")"
   ]
  },
  {
   "cell_type": "markdown",
   "id": "a6664cf9-0979-48e9-a789-2f480512ffd9",
   "metadata": {},
   "source": [
    "O valor do R² valor indica que 96.3% da variação nos preços reais das ações pode ser explicada pelo modelo de Regressão Linear. Isso sugere que o modelo tem um excelente poder de explicação, ou seja, está capturando bem a relação entre as variáveis preditoras e o preço das ações."
   ]
  },
  {
   "cell_type": "markdown",
   "id": "daf02fcc-0e51-47c9-b229-8a67c4b1d8da",
   "metadata": {},
   "source": [
    "Um RMSE de 0.45 indica que, em média, o modelo prevê os preços com uma diferença de R$ 0.45 em relação ao valor real, considerando todos os pontos do conjunto de dados."
   ]
  },
  {
   "cell_type": "markdown",
   "id": "6bdd7e7e-b724-43ea-89f5-9da65c0c9b2e",
   "metadata": {},
   "source": [
    "Abaixo, é possível observar um gráfico de linha comparando os valores reais e as previsões."
   ]
  },
  {
   "cell_type": "code",
   "execution_count": 211,
   "id": "3c12b752-614a-4ab8-bec9-34017a960210",
   "metadata": {},
   "outputs": [
    {
     "data": {
      "image/png": "[encoded data removed]",
      "text/plain": [
       "<Figure size 1000x600 with 1 Axes>"
      ]
     },
     "metadata": {},
     "output_type": "display_data"
    }
   ],
   "source": [
    "plt.figure(figsize=(10,6))\n",
    "plt.plot(y_test, label='Valores Reais')\n",
    "plt.plot(y_pred, label='Previsões')\n",
    "plt.legend()\n",
    "plt.title('Previsão dos Preços de Ações (ITUB3.SA) com Regressão Linear')\n",
    "plt.show()"
   ]
  },
  {
   "cell_type": "markdown",
   "id": "8cfb8742-f906-4df1-b2e4-62540b1115e6",
   "metadata": {},
   "source": [
    "# COMPARANDO VALOR REAL COM VALOR PREVISTO NO PRÓXIMO DIA "
   ]
  },
  {
   "cell_type": "markdown",
   "id": "5d86b520-c450-45d5-a5c5-25aa3a56ff09",
   "metadata": {},
   "source": [
    "Para o dia 31/12/2019, vamos calcular e exibir o valor real e o valor previsto pelo modelo, e essa comparação direta nos dará uma noção mais clara de como o modelo está performando para esse ponto específico. A diferença entre os dois valores nos ajudará a avaliar a precisão do modelo"
   ]
  },
  {
   "cell_type": "markdown",
   "id": "7c36cf67-fe3b-40a5-89b2-1030b3c30f68",
   "metadata": {},
   "source": [
    "Embora o RMSE nos forneça o erro médio ao longo de todo o conjunto de dados, aqui podemos ver o erro específico no último dia."
   ]
  },
  {
   "cell_type": "code",
   "execution_count": 307,
   "id": "6fc04b7d-7b70-497b-90b2-b9072b2c3334",
   "metadata": {},
   "outputs": [
    {
     "name": "stderr",
     "output_type": "stream",
     "text": [
      "C:\\Users\\Matheus\\AppData\\Local\\Temp\\ipykernel_2348\\842980438.py:2: FutureWarning: Series.__getitem__ treating keys as positions is deprecated. In a future version, integer keys will always be treated as labels (consistent with DataFrame behavior). To access a value by position, use `ser.iloc[pos]`\n",
      "  preco_previsto = df['Adj Close'][-1]\n"
     ]
    }
   ],
   "source": [
    "# Obter o último preço de fechamento ajustado previsto para o dia 31/12/2019\n",
    "preco_previsto = df['Adj Close'][-1]"
   ]
  },
  {
   "cell_type": "code",
   "execution_count": 309,
   "id": "60358e18-f49a-4834-aa45-3bcf1d7255bf",
   "metadata": {},
   "outputs": [
    {
     "name": "stderr",
     "output_type": "stream",
     "text": [
      "[*********************100%***********************]  1 of 1 completed\n"
     ]
    }
   ],
   "source": [
    "#baixando o preço real da ação no próximo dia útil\n",
    "data_comparacao = '2019-12-31'\n",
    "dados_reais = yf.download(carteira, start=data_fim, end=data_comparacao)"
   ]
  },
  {
   "cell_type": "code",
   "execution_count": 311,
   "id": "ae041eae-05b1-42ab-9b4c-7f0f139064ed",
   "metadata": {},
   "outputs": [
    {
     "name": "stderr",
     "output_type": "stream",
     "text": [
      "C:\\Users\\Matheus\\AppData\\Local\\Temp\\ipykernel_2348\\3625451765.py:2: FutureWarning: Series.__getitem__ treating keys as positions is deprecated. In a future version, integer keys will always be treated as labels (consistent with DataFrame behavior). To access a value by position, use `ser.iloc[pos]`\n",
      "  preco_real = dados_reais['Adj Close'][0]\n"
     ]
    }
   ],
   "source": [
    "#pegando o valor real do preço de fechamento ajustado no dia 31/12/2019 para comparar com a previsão\n",
    "preco_real = dados_reais['Adj Close'][0]"
   ]
  },
  {
   "cell_type": "code",
   "execution_count": 313,
   "id": "40ea9b2e-6148-4ce4-95d3-3aa0d1e13cb2",
   "metadata": {},
   "outputs": [
    {
     "name": "stdout",
     "output_type": "stream",
     "text": [
      "Preço previsto em 2019-12-30: 25.69048309326172\n",
      "Preço real em 2019-12-31: 25.491525650024414\n"
     ]
    }
   ],
   "source": [
    "#comparando o preço de fechamento ajustado previsto com o preço real\n",
    "print(f\"Preço previsto em {data_fim}: {preco_previsto}\")\n",
    "print(f\"Preço real em {data_comparacao}: {preco_real}\")"
   ]
  },
  {
   "cell_type": "code",
   "execution_count": 315,
   "id": "7604d05e-e889-41f3-b848-279d8febeaef",
   "metadata": {},
   "outputs": [
    {
     "name": "stdout",
     "output_type": "stream",
     "text": [
      "Diferença entre o preço de fechamento ajustado real e o previsto para o dia 31/12/2019: 0.1989574432373047\n"
     ]
    }
   ],
   "source": [
    "#calculando a diferença em valor absoluto\n",
    "diferenca = abs(preco_real - preco_previsto)\n",
    "print(f\"Diferença entre o preço de fechamento ajustado real e o previsto para o dia 31/12/2019: {diferenca}\")"
   ]
  },
  {
   "cell_type": "markdown",
   "id": "cb08dccf-68bc-4f3b-8752-f080a835fe73",
   "metadata": {},
   "source": [
    "# CONCLUSÃO"
   ]
  },
  {
   "cell_type": "markdown",
   "id": "0a8e1e52-9dd2-4cbc-af3a-2303cb59fa16",
   "metadata": {},
   "source": [
    "Neste notebook, aplicamos um modelo de regressão linear para prever os preços das ações da ITUB3.SA com base em dados históricos. A comparação entre o preço previsto e o preço real para o dia 31/12/2019 resultou em uma diferença de aproximadamente R$ 0.20, o que indica que o modelo apresentou um erro relativamente baixo para esse ponto específico."
   ]
  },
  {
   "cell_type": "markdown",
   "id": "3caf3925-47e8-4db2-90e3-90fa7d5d426d",
   "metadata": {},
   "source": [
    "Além disso, o RMSE de 0.45 ao longo de todo o período analisado demonstra que o modelo tem um bom desempenho geral, com uma margem de erro média de R$ 0.45 por previsão. O valor do R² de 0.96 confirma que o modelo explica 96% da variabilidade nos preços das ações, o que reforça sua precisão."
   ]
  },
  {
   "cell_type": "markdown",
   "id": "b8fd3d1a-67af-465d-8850-273850cf682a",
   "metadata": {},
   "source": [
    "Embora a regressão linear tenha apresentado bons resultados neste estudo, ela não é a abordagem ideal para prever preços de ações devido a algumas limitações. O mercado de ações é altamente volátil e influenciado por diversos fatores não lineares, como eventos econômicos e políticos, que o modelo não consegue capturar adequadamente."
   ]
  }
 ],
 "metadata": {
  "kernelspec": {
   "display_name": "Python 3 (ipykernel)",
   "language": "python",
   "name": "python3"
  },
  "language_info": {
   "codemirror_mode": {
    "name": "ipython",
    "version": 3
   },
   "file_extension": ".py",
   "mimetype": "text/x-python",
   "name": "python",
   "nbconvert_exporter": "python",
   "pygments_lexer": "ipython3",
   "version": "3.12.4"
  }
 },
 "nbformat": 4,
 "nbformat_minor": 5
}
